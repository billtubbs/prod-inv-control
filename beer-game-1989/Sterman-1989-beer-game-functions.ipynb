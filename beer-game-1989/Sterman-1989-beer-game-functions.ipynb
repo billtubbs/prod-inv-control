{
 "cells": [
  {
   "cell_type": "markdown",
   "id": "b64f5665",
   "metadata": {},
   "source": [
    "# Implement beer game described by John Sterman 1989"
   ]
  },
  {
   "cell_type": "code",
   "execution_count": 7,
   "id": "b247b1d1",
   "metadata": {},
   "outputs": [],
   "source": [
    "def calc_stock_t(stock_tm1, acquisition_rate_tm1, loss_rate_tm1, dt):\n",
    "    \"\"\"Calculate stock at time t\n",
    "    \n",
    "        S(t) = S(t-1) + (A(t-1) - L(t-1)) * dt\n",
    "    \n",
    "    This is a discrete version of Eqn. 1 in Sterman (1989).\n",
    "    \"\"\"\n",
    "    return stock_tm1 + (acquisition_rate_tm1 - loss_rate_tm1) * dt\n",
    "\n",
    "assert calc_stock_t(10, 4, 3, 1) == 11\n",
    "assert calc_stock_t(10, 4, 3, 0.5) == 10.5"
   ]
  },
  {
   "cell_type": "code",
   "execution_count": 9,
   "id": "82eefdb5",
   "metadata": {},
   "outputs": [],
   "source": [
    "def calc_supply_line_t(supply_line_tm1, order_rate_tm1, acquisition_rate_tm1, dt):\n",
    "    \"\"\"Calculate supply line at time t\n",
    "    \n",
    "        SL(t) = SL(t-1) + (O(t-1) - A(t-1)) * dt\n",
    "    \n",
    "    This is a discrete version of Eqn. 2 in Sterman (1989).\n",
    "    \"\"\"\n",
    "    return supply_line_tm1 + (order_rate_tm1 - acquisition_rate_tm1) * dt\n",
    "\n",
    "assert calc_supply_line_t(10, 4, 3, 1) == 11\n",
    "assert calc_supply_line_t(10, 4, 3, 0.5) == 10.5"
   ]
  },
  {
   "cell_type": "code",
   "execution_count": 11,
   "id": "1aeb3df5",
   "metadata": {},
   "outputs": [],
   "source": [
    "# Managers are assumed to choose orders so as to: (1) replace \n",
    "# expected losses from stock; (2) reduce the discrepancy \n",
    "# between the desired and actual stock; and (3) maintain\n",
    "# an adequate supply line of unfilled orders.\n",
    "\n",
    "# Orders must be non-negative\n",
    "# orders_t = max(0, indicated_orders)"
   ]
  },
  {
   "cell_type": "code",
   "execution_count": 14,
   "id": "52a18c52",
   "metadata": {},
   "outputs": [],
   "source": [
    "# Indicated order rate is based on the anchoring and \n",
    "# adjustment heuristic (Tversky and Kahneman 1974).\n",
    "# Anchoring and adjustment is a common strategy in which \n",
    "# an unknown quantity is estimated by first recalling a\n",
    "# known reference point (the anchor) and then adjusting\n",
    "# for the effects of other factors which may be less\n",
    "# salient or whose effects are obscure, requiring the\n",
    "# subject to estimate these effects by what Kahneman and\n",
    "# Tversky (1982) call 'mental simulation.' Here, the\n",
    "# anchor is the expected loss rate L. Adjustments are then\n",
    "# made to correct discrepancies between the desired and\n",
    "# actual stock (AS), and between the desired and actual \n",
    "# supply line (ASL).\n",
    "\n",
    "def calc_order_rate_t(expected_loss_rate_t, adjustment_stock_t, adjustment_supply_line_t):\n",
    "    return expected_loss_rate_t + adjustment_stock_t + adjustment_supply_line_t"
   ]
  },
  {
   "cell_type": "code",
   "execution_count": null,
   "id": "dddc07c1",
   "metadata": {},
   "outputs": [],
   "source": []
  },
  {
   "cell_type": "code",
   "execution_count": null,
   "id": "46675150",
   "metadata": {},
   "outputs": [],
   "source": []
  },
  {
   "cell_type": "code",
   "execution_count": null,
   "id": "b5c52930",
   "metadata": {},
   "outputs": [],
   "source": []
  }
 ],
 "metadata": {
  "kernelspec": {
   "display_name": "Python [conda env:torch]",
   "language": "python",
   "name": "conda-env-torch-py"
  },
  "language_info": {
   "codemirror_mode": {
    "name": "ipython",
    "version": 3
   },
   "file_extension": ".py",
   "mimetype": "text/x-python",
   "name": "python",
   "nbconvert_exporter": "python",
   "pygments_lexer": "ipython3",
   "version": "3.9.16"
  }
 },
 "nbformat": 4,
 "nbformat_minor": 5
}
