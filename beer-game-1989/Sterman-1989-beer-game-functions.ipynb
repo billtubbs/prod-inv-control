{
 "cells": [
  {
   "cell_type": "markdown",
   "id": "b64f5665",
   "metadata": {},
   "source": [
    "# Implement beer game described by John Sterman 1989"
   ]
  },
  {
   "cell_type": "markdown",
   "id": "4d7fc6d9-298f-48f0-91c5-499ee9a8f257",
   "metadata": {},
   "source": [
    "## Introduction\n",
    "\n",
    "The stock management control problem is divided into two parts:\n",
    "\n",
    " 1. the stock and flow structure of the system\n",
    " 2. the decision rule used by the manager\n",
    "\n",
    "### Variables\n",
    "\n",
    " - $S(t)$ : Stock level at time $t$ (i.e. inventory).\n",
    " - $A(t)$ : Acquisition rate at time $t$ (i.e. additions to stock, such as deliveries from the supplier).\n",
    " - $L(t)$ : Loss rate at time $t$ (i.e. reductions from stock, such as shipments to the customer).\n",
    " - $O(t)$ : Actual orders at time $t$, $O(t) \\ge 0$.\n",
    " - ${IO}(t)$ : Indicated orders at time $t$.\n",
    " - $\\hat{L}(t)$ : Expected stock losses at time $t$.\n",
    " - ${AS}(t)$ : Difference between desired and actual stock at time $t$.\n",
    " - ${ASL}(t)$ : Difference between desired and actual supply line at time $t$.\n",
    " - $S^*(t)$ : Desired stock level at time $t$.\n",
    " - ${SL}^*(t)$ : Desired supply line level at time $t$.\n",
    " - $\\alpha_{s}$ : Decision rule parameter – the adjustment rate for the stock.\n",
    " - $\\alpha_{sl}$ : Decision rule parameter – the adjustment rate for the supply line.\n",
    "\n",
    "### Stock and flow system model\n",
    "\n",
    "The stock at the next time instant $S(t+1)$ is given by the stock in the current time instant plus the current accumulation and loss rates (I assume the accumulation and loss rates are defined in units / period and are constant during each period),\n",
    "\n",
    "\\begin{equation}\n",
    "S(t+1) = A(t) - L(t) + S(t). \\tag{1}\n",
    "\\end{equation}\n",
    "\n",
    "The acquisition rate depends on the supply line of units, $SL(t)$, which have been ordered but not yet received, and the average acquisition lag, $\\lambda$. The supply line at the next time instant is simply the accumulation of the orders placed in the current period $O(t)$, less those which have been delivered $A(t)$:\n",
    "\n",
    "\\begin{equation}\n",
    "SL(t+1) = O(t) - A(t) + {SL}(t). \\tag{2}\n",
    "\\end{equation}\n"
   ]
  },
  {
   "cell_type": "markdown",
   "id": "7ecd268c-422a-49b9-9f2d-63c38f62df94",
   "metadata": {},
   "source": [
    "### Management decision rule"
   ]
  },
  {
   "cell_type": "markdown",
   "id": "970c2805-238a-4393-97dd-5a87b83eed9d",
   "metadata": {},
   "source": [
    "Managers are assumed to choose orders so as to:\n",
    " 1. replace expected losses from stock\n",
    " 2. reduce the discrepancy between the desired and actual stock\n",
    " 3. maintain an adequate supply line of unfilled orders.\n",
    "\n",
    "Note that orders must be non-negative, therefore\n",
    "\n",
    "\\begin{equation}\n",
    "O(t) = \\max(0, IO(t)). \\tag{3}\n",
    "\\end{equation}\n",
    "\n",
    "The indicated order rate is based on the anchoring and \n",
    "adjustment heuristic (Tversky and Kahneman 1974).\n",
    "Anchoring and adjustment is a common strategy in which \n",
    "an unknown quantity is estimated by first recalling a\n",
    "known reference point (the anchor) and then adjusting\n",
    "for the effects of other factors which may be less\n",
    "salient or whose effects are obscure, requiring the\n",
    "subject to estimate these effects by what Kahneman and\n",
    "Tversky (1982) call 'mental simulation.' Here, the\n",
    "anchor is the expected loss rate $L$. Adjustments are then\n",
    "made to correct discrepancies between the desired and\n",
    "actual stock ($AS$), and between the desired and actual \n",
    "supply line ($ASL$).\n",
    "\n",
    "\\begin{equation}\n",
    "IO(t) = \\hat{L}(t) + AS(t) + ASL(t). \\tag{4}\n",
    "\\end{equation}"
   ]
  },
  {
   "cell_type": "markdown",
   "id": "8f6f822a-8866-409e-8d8b-406ddcd07647",
   "metadata": {},
   "source": [
    "There is a negative feedback loop which regulates the stock level.  The adjustment rate is linear in the discrepancy between the desired stock $S^*(t)$ and the actual stock:\n",
    "\n",
    "\\begin{equation}\n",
    "AS(t) = \\alpha_s (S^*(t) - S(t)). \\tag{5}\n",
    "\\end{equation}\n",
    "\n",
    "where $\\alpha_s$ is the stock adjustment parameter.\n",
    "\n",
    "Similarly, there is a second feedback loop which regulates the supply line level.  The adjustment rate is linear in the discrepancy between the desired supply line level $S^*(t)$ and the actual:\n",
    "\n",
    "\\begin{equation}\n",
    "ASL(t) = \\alpha_sl (SL^*(t) - SL(t)). \\tag{6}\n",
    "\\end{equation}\n",
    "\n",
    "where $\\alpha_s$ is the stock adjustment parameter."
   ]
  },
  {
   "cell_type": "markdown",
   "id": "d639de9b-b25c-4f65-968f-229e13e7215b",
   "metadata": {},
   "source": [
    "The desired supply line in general is not constant but depends on the desired throughput, $\\Phi^*(t)$ and the expected lag between ordering and acquisition of goods:\n",
    "\n",
    "\\begin{equation}\n",
    "SL^*(t) = \\hat{\\lambda}(t) \\cdot \\Phi^*(t). \\tag{7}\n",
    "\\end{equation}"
   ]
  },
  {
   "cell_type": "markdown",
   "id": "58235281-c0b6-4968-9583-ad81ac90611f",
   "metadata": {},
   "source": [
    "## Functions to implement system model"
   ]
  },
  {
   "cell_type": "code",
   "execution_count": 44,
   "id": "b247b1d1",
   "metadata": {},
   "outputs": [],
   "source": [
    "def calc_stock_tp1(stock_t, acquisition_rate_t, loss_rate_t, dt=1):\n",
    "    \"\"\"Calculate stock at time t\n",
    "\n",
    "        S(t+1) = S(t) + (A(t) - L(t)) * dt\n",
    "\n",
    "    This is a discrete-time version of Eqn. 1 in Sterman (1989).\n",
    "    \"\"\"\n",
    "    return stock_t + (acquisition_rate_t - loss_rate_t) * dt\n",
    "\n",
    "assert calc_stock_tp1(10, 4, 3, 1) == 11\n",
    "assert calc_stock_tp1(10, 4, 3, 0.5) == 10.5"
   ]
  },
  {
   "cell_type": "code",
   "execution_count": 45,
   "id": "82eefdb5",
   "metadata": {},
   "outputs": [],
   "source": [
    "def calc_supply_line_tp1(supply_line_tm1, order_rate_tm1, acquisition_rate_tm1, dt=1):\n",
    "    \"\"\"Calculate supply line at time t\n",
    "\n",
    "        SL(t+1) = SL(t) + (O(t) - A(t)) * dt\n",
    "\n",
    "    This is a discrete-time version of Eqn. 2 in Sterman (1989).\n",
    "    \"\"\"\n",
    "    return supply_line_tm1 + (order_rate_tm1 - acquisition_rate_tm1) * dt\n",
    "\n",
    "assert calc_supply_line_t(10, 4, 3, 1) == 11\n",
    "assert calc_supply_line_t(10, 4, 3, 0.5) == 10.5"
   ]
  },
  {
   "cell_type": "markdown",
   "id": "45cc2f44-e359-41fe-93fb-94db53fb7b85",
   "metadata": {},
   "source": [
    "## Functions to implement decision rule"
   ]
  },
  {
   "cell_type": "code",
   "execution_count": 46,
   "id": "44189faa-0a04-4317-99b5-060c79cfac4c",
   "metadata": {},
   "outputs": [],
   "source": [
    "def calc_orders_t(expected_losses_t, adjustment_for_stock_t, adjustment_for_supply_line_t):\n",
    "    \"\"\"Calculate order decision at time t\n",
    "\n",
    "        IO(t) = L_hat(t) + AS(t) + ASL(t)\n",
    "        O(t) = max(0, IO(t))\n",
    "\n",
    "    These are discrete-time versions of Eqn.s 3 and 4 in Sterman (1989).\n",
    "    \"\"\"\n",
    "    indicated_orders = expected_losses_t + adjustment_for_stock_t + adjustment_for_supply_line_t\n",
    "    return np.clip(indicated_orders, 0, None)\n",
    "\n",
    "assert calc_orders_t(1, 2, 3) == 6\n",
    "assert calc_orders_t(1, 2, -3) == 0\n",
    "assert calc_orders_t(1, 2, -10) == 0"
   ]
  },
  {
   "cell_type": "code",
   "execution_count": 47,
   "id": "83efdaab-9349-425a-9231-5956268f8d63",
   "metadata": {},
   "outputs": [],
   "source": [
    "def calc_adjustment_for_stock_t(stock_t, stock_target_t, alpha_s):\n",
    "    \"\"\"Calculate order adjustment for stock discrepancy at time t\n",
    "\n",
    "        AS(t) = alpha_s * (S_target(t) - S(t))\n",
    "\n",
    "    This is a discrete-time version of Eqn. 5 in Sterman (1989).\n",
    "    \"\"\"\n",
    "    return alpha_s * (stock_target_t - stock_t)\n",
    "\n",
    "assert calc_adjustment_for_stock_t(10, 12, 0.5) == 1"
   ]
  },
  {
   "cell_type": "code",
   "execution_count": 48,
   "id": "8435ef0b-0a3b-41df-abea-bb73694bf794",
   "metadata": {},
   "outputs": [],
   "source": [
    "def calc_adjustment_for_supply_line_t(supply_line_t, supply_line_target_t, alpha_sl):\n",
    "    \"\"\"Calculate order adjustment for stock discrepancy at time t\n",
    "\n",
    "        ASL(t) = alpha_sl * (SL_target(t) - SL(t))\n",
    "\n",
    "    This is a discrete-time version of Eqn. 6 in Sterman (1989).\n",
    "    \"\"\"\n",
    "    return alpha_s * (stock_target_t - stock_t)\n",
    "\n",
    "assert calc_adjustment_for_stock_t(12, 10, 0.5) == -1"
   ]
  },
  {
   "cell_type": "markdown",
   "id": "1a9aa9aa-e248-4503-983b-43d8f1ede342",
   "metadata": {},
   "source": [
    "## Beer Game Experiment"
   ]
  },
  {
   "cell_type": "code",
   "execution_count": null,
   "id": "62efd366-cf96-42c6-b134-5cc03a5b1a42",
   "metadata": {},
   "outputs": [],
   "source": []
  },
  {
   "cell_type": "code",
   "execution_count": null,
   "id": "d2e1696d-3b2e-4eb9-9235-4544379a8577",
   "metadata": {},
   "outputs": [],
   "source": []
  },
  {
   "cell_type": "code",
   "execution_count": null,
   "id": "41df85d8-d7ca-4269-bc29-0d8233939c12",
   "metadata": {},
   "outputs": [],
   "source": []
  },
  {
   "cell_type": "markdown",
   "id": "571d0abf-676b-4143-b0ef-81fd5afaba08",
   "metadata": {},
   "source": [
    "## References\n",
    "\n",
    " - John Sterman (1989). Modeling Managerial Behavior: Misperceptions of Feedback in a Dynamic Decision Making Experiment, Management Science, Vol. 35, No. 3 (Mar., 1989), pp. 321-339, https://www.jstor.org/stable/2631975. \n"
   ]
  },
  {
   "cell_type": "code",
   "execution_count": null,
   "id": "46675150",
   "metadata": {},
   "outputs": [],
   "source": []
  },
  {
   "cell_type": "code",
   "execution_count": null,
   "id": "b5c52930",
   "metadata": {},
   "outputs": [],
   "source": []
  }
 ],
 "metadata": {
  "kernelspec": {
   "display_name": "torch",
   "language": "python",
   "name": "torch"
  },
  "language_info": {
   "codemirror_mode": {
    "name": "ipython",
    "version": 3
   },
   "file_extension": ".py",
   "mimetype": "text/x-python",
   "name": "python",
   "nbconvert_exporter": "python",
   "pygments_lexer": "ipython3",
   "version": "3.9.16"
  }
 },
 "nbformat": 4,
 "nbformat_minor": 5
}
